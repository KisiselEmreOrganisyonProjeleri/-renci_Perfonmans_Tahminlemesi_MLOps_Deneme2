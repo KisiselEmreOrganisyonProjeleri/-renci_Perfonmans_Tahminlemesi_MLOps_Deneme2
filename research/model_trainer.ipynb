{
 "cells": [
  {
   "cell_type": "code",
   "execution_count": 1,
   "metadata": {},
   "outputs": [],
   "source": [
    "import os"
   ]
  },
  {
   "cell_type": "code",
   "execution_count": 2,
   "metadata": {},
   "outputs": [
    {
     "data": {
      "text/plain": [
       "'/workspaces/-renci_Perfonmans_Tahminlemesi_MLOps_Deneme2/research'"
      ]
     },
     "execution_count": 2,
     "metadata": {},
     "output_type": "execute_result"
    }
   ],
   "source": [
    "%pwd"
   ]
  },
  {
   "cell_type": "code",
   "execution_count": 3,
   "metadata": {},
   "outputs": [],
   "source": [
    "os.chdir('../')"
   ]
  },
  {
   "cell_type": "code",
   "execution_count": 4,
   "metadata": {},
   "outputs": [
    {
     "data": {
      "text/plain": [
       "'/workspaces/-renci_Perfonmans_Tahminlemesi_MLOps_Deneme2'"
      ]
     },
     "execution_count": 4,
     "metadata": {},
     "output_type": "execute_result"
    }
   ],
   "source": [
    "%pwd"
   ]
  },
  {
   "cell_type": "markdown",
   "metadata": {},
   "source": [
    "# Entity"
   ]
  },
  {
   "cell_type": "code",
   "execution_count": 5,
   "metadata": {},
   "outputs": [],
   "source": [
    "from dataclasses import dataclass\n",
    "from pathlib import Path\n",
    "\n",
    "@dataclass(frozen=True)\n",
    "class ModelTrainerConfig:\n",
    "    root_dir: Path  # Türü belirtmek için ':' kullanın\n",
    "    prep_data_path: Path  # Türü belirtmek için ':' kullanın\n",
    "    model_path: Path  # Türü belirtmek için ':' kullanın"
   ]
  },
  {
   "cell_type": "code",
   "execution_count": 7,
   "metadata": {},
   "outputs": [],
   "source": [
    "from src.ÖğrenciTahminleme.constants import * # constanst icerisinde degiskenleri import ettik\n",
    "from src.ÖğrenciTahminleme.utils.common import read_yaml, create_directories # common.py icerisinde read_yaml ve create_directories methodlarini import ettik"
   ]
  },
  {
   "cell_type": "code",
   "execution_count": 10,
   "metadata": {},
   "outputs": [],
   "source": [
    "class ConfigurationManager:\n",
    "    def __init__(\n",
    "        self,\n",
    "        config_filepath = CONFIG_FILE_PATH,\n",
    "        params_filepath = PARAMS_FILE_PATH):\n",
    "\n",
    "        self.config = read_yaml(config_filepath)\n",
    "        self.params = read_yaml(params_filepath)\n",
    "\n",
    "        create_directories([self.config.artifacts_root])\n",
    "    def get_model_trainer_config(self) -> ModelTrainerConfig:\n",
    "        config = self.config.model_trainer\n",
    "        create_directories([config.root_dir])\n",
    "        model_trainer_config = ModelTrainerConfig(\n",
    "            root_dir = config.root_dir,\n",
    "            prep_data_path = config.prep_data_path,\n",
    "            model_path = Path(config.model_path)\n",
    "        )\n",
    "        return model_trainer_config"
   ]
  },
  {
   "cell_type": "code",
   "execution_count": 15,
   "metadata": {},
   "outputs": [
    {
     "ename": "ModuleNotFoundError",
     "evalue": "No module named 'catboost'",
     "output_type": "error",
     "traceback": [
      "\u001b[0;31m---------------------------------------------------------------------------\u001b[0m",
      "\u001b[0;31mModuleNotFoundError\u001b[0m                       Traceback (most recent call last)",
      "Cell \u001b[0;32mIn[15], line 4\u001b[0m\n\u001b[1;32m      1\u001b[0m \u001b[38;5;28;01mimport\u001b[39;00m\u001b[38;5;250m \u001b[39m\u001b[38;5;21;01mos\u001b[39;00m\n\u001b[1;32m      3\u001b[0m \u001b[38;5;28;01mimport\u001b[39;00m\u001b[38;5;250m \u001b[39m\u001b[38;5;21;01msys\u001b[39;00m\n\u001b[0;32m----> 4\u001b[0m \u001b[38;5;28;01mfrom\u001b[39;00m\u001b[38;5;250m \u001b[39m\u001b[38;5;21;01mcatboost\u001b[39;00m\u001b[38;5;250m \u001b[39m\u001b[38;5;28;01mimport\u001b[39;00m CatBoostRegressor\n\u001b[1;32m      5\u001b[0m \u001b[38;5;28;01mfrom\u001b[39;00m\u001b[38;5;250m \u001b[39m\u001b[38;5;21;01msklearn\u001b[39;00m\u001b[38;5;21;01m.\u001b[39;00m\u001b[38;5;21;01mensemble\u001b[39;00m\u001b[38;5;250m \u001b[39m\u001b[38;5;28;01mimport\u001b[39;00m (\n\u001b[1;32m      6\u001b[0m     AdaBoostRegressor,\n\u001b[1;32m      7\u001b[0m     GradientBoostingRegressor,\n\u001b[1;32m      8\u001b[0m     RandomForestRegressor\n\u001b[1;32m      9\u001b[0m )\n\u001b[1;32m     11\u001b[0m \u001b[38;5;28;01mfrom\u001b[39;00m\u001b[38;5;250m \u001b[39m\u001b[38;5;21;01msklearn\u001b[39;00m\u001b[38;5;21;01m.\u001b[39;00m\u001b[38;5;21;01mlinear_model\u001b[39;00m\u001b[38;5;250m \u001b[39m\u001b[38;5;28;01mimport\u001b[39;00m LinearRegression\n",
      "\u001b[0;31mModuleNotFoundError\u001b[0m: No module named 'catboost'"
     ]
    }
   ],
   "source": [
    "import os\n",
    "\n",
    "import sys\n",
    "from catboost import CatBoostRegressor\n",
    "from sklearn.ensemble import (\n",
    "    AdaBoostRegressor,\n",
    "    GradientBoostingRegressor,\n",
    "    RandomForestRegressor\n",
    ")\n",
    "\n",
    "from sklearn.linear_model import LinearRegression\n",
    "from sklearn.metrics import r2_score # Yüzdelik olarak modelin ne kadar doğru çalıştığını gösterir\n",
    "from sklearn.neighbors import KNeighborsRegressor\n",
    "from sklearn.tree import DecisionTreeRegressor\n",
    "from src.ÖğrenciTahminleme import logger\n",
    "\n",
    "\n",
    "from dataclasses import dataclass\n",
    "\n",
    " \n",
    "from src.ÖğrenciTahminleme.utils.common import get_size,save_object,evaluate_model"
   ]
  },
  {
   "cell_type": "code",
   "execution_count": 12,
   "metadata": {},
   "outputs": [],
   "source": [
    "import yaml\n",
    "from sklearn.model_selection import RandomizedSearchCV\n",
    "from sklearn.metrics import r2_score\n",
    "from src.ÖğrenciTahminleme.utils.common import read_yaml  # Mevcut read_yaml fonksiyonunu kullanıyoruz\n",
    "\n",
    "class ModelTrainer:\n",
    "    def __init__(self, params_path=\"params.yaml\"):\n",
    "        self.params_path = params_path\n",
    "        self.params = read_yaml(self.params_path)  # read_yaml ile YAML dosyasını okuyoruz\n",
    "\n",
    "    def initiate_model_trainer(self, train_array, test_array):\n",
    "        try:\n",
    "            logger.info(\"Train ve test verisiyle model eğitimi başlatılıyor.\")\n",
    "            \n",
    "            X_train, y_train, X_test, y_test = (\n",
    "                train_array[:, :-1],\n",
    "                train_array[:, -1],\n",
    "                test_array[:, :-1],\n",
    "                test_array[:, -1],\n",
    "            )\n",
    "\n",
    "            models = {\n",
    "                \"Random Forest\": RandomForestRegressor(),\n",
    "                \"Decision Tree\": DecisionTreeRegressor(),\n",
    "                \"Gradient Boosting\": GradientBoostingRegressor(),\n",
    "                \"Linear Regression\": LinearRegression(),\n",
    "                \"CatBoosting Regressor\": CatBoostRegressor(verbose=False),\n",
    "                \"AdaBoost Regressor\": AdaBoostRegressor(),\n",
    "            }\n",
    "\n",
    "            # Parametreleri params.yaml dosyasından oku\n",
    "            params = self.params\n",
    "\n",
    "            model_report = {}\n",
    "            for model_name, model in models.items():\n",
    "                if model_name in params:\n",
    "                    param_grid = params[model_name]\n",
    "                    if param_grid:  # Eğer model için parametre tanımlandıysa\n",
    "                        logger.info(f\"{model_name} için RandomizedSearchCV başlatılıyor.\")\n",
    "                        search = RandomizedSearchCV(\n",
    "                            estimator=model,\n",
    "                            param_distributions=param_grid,\n",
    "                            scoring=\"r2\",\n",
    "                            n_iter=10,  # Rastgele 10 kombinasyonu değerlendir\n",
    "                            cv=3,  # 3-fold cross-validation\n",
    "                            random_state=42,\n",
    "                            n_jobs=-1\n",
    "                        )\n",
    "                        search.fit(X_train, y_train)\n",
    "                        best_model = search.best_estimator_\n",
    "                        model_report[model_name] = best_model.score(X_test, y_test)\n",
    "                    else:\n",
    "                        logger.info(f\"{model_name} için parametre yok, varsayılan model kullanılıyor.\")\n",
    "                        model.fit(X_train, y_train)\n",
    "                        model_report[model_name] = model.score(X_test, y_test)\n",
    "                else:\n",
    "                    logger.warning(f\"{model_name} için params.yaml'de parametre bulunamadı.\")\n",
    "\n",
    "            # En iyi modeli bul\n",
    "            best_model_name = max(model_report, key=model_report.get)\n",
    "            best_model_score = model_report[best_model_name]\n",
    "            best_model = models[best_model_name]\n",
    "\n",
    "            if best_model_score < 0.6:\n",
    "                raise Exception(\"Hiçbir model yeterli performansı sağlayamadı.\")\n",
    "\n",
    "            logger.info(f\"En iyi model: {best_model_name} (R2: {best_model_score})\")\n",
    "\n",
    "            # Modeli kaydet\n",
    "            save_object(\n",
    "                file_path=self.model_trainer_config.model_path / \"best_model.pkl\",\n",
    "                obj=best_model\n",
    "            )\n",
    "\n",
    "            predicted = best_model.predict(X_test)\n",
    "            r2_square = r2_score(y_test, predicted)\n",
    "            return best_model, r2_square\n",
    "\n",
    "        except Exception as e:\n",
    "            logger.error(f\"Model eğitimi sırasında hata oluştu: {e}\")\n",
    "            raise"
   ]
  },
  {
   "cell_type": "code",
   "execution_count": 14,
   "metadata": {},
   "outputs": [
    {
     "ename": "TypeError",
     "evalue": "ModelTrainer.__init__() got an unexpected keyword argument 'config'",
     "output_type": "error",
     "traceback": [
      "\u001b[0;31m---------------------------------------------------------------------------\u001b[0m",
      "\u001b[0;31mTypeError\u001b[0m                                 Traceback (most recent call last)",
      "Cell \u001b[0;32mIn[14], line 7\u001b[0m\n\u001b[1;32m      5\u001b[0m     model_trainer\u001b[38;5;241m.\u001b[39minitiate_model_trainer()\n\u001b[1;32m      6\u001b[0m \u001b[38;5;28;01mexcept\u001b[39;00m \u001b[38;5;167;01mException\u001b[39;00m \u001b[38;5;28;01mas\u001b[39;00m e:\n\u001b[0;32m----> 7\u001b[0m     \u001b[38;5;28;01mraise\u001b[39;00m e\n",
      "Cell \u001b[0;32mIn[14], line 4\u001b[0m\n\u001b[1;32m      2\u001b[0m     config \u001b[38;5;241m=\u001b[39m ConfigurationManager() \u001b[38;5;66;03m#benim değişkenlerimin değerlerini tutuyor.\u001b[39;00m\n\u001b[1;32m      3\u001b[0m     model_trainer_config \u001b[38;5;241m=\u001b[39m config\u001b[38;5;241m.\u001b[39mget_model_trainer_config() \u001b[38;5;66;03m# bu methodla config.yaml içindeki bütün değerleri çağırıyorum\u001b[39;00m\n\u001b[0;32m----> 4\u001b[0m     model_trainer \u001b[38;5;241m=\u001b[39m \u001b[43mModelTrainer\u001b[49m\u001b[43m(\u001b[49m\u001b[43mconfig\u001b[49m\u001b[38;5;241;43m=\u001b[39;49m\u001b[43mmodel_trainer_config\u001b[49m\u001b[43m)\u001b[49m\n\u001b[1;32m      5\u001b[0m     model_trainer\u001b[38;5;241m.\u001b[39minitiate_model_trainer()\n\u001b[1;32m      6\u001b[0m \u001b[38;5;28;01mexcept\u001b[39;00m \u001b[38;5;167;01mException\u001b[39;00m \u001b[38;5;28;01mas\u001b[39;00m e:\n",
      "\u001b[0;31mTypeError\u001b[0m: ModelTrainer.__init__() got an unexpected keyword argument 'config'"
     ]
    }
   ],
   "source": [
    "try:\n",
    "    config = ConfigurationManager() #benim değişkenlerimin değerlerini tutuyor.\n",
    "    model_trainer_config = config.get_model_trainer_config() # bu methodla config.yaml içindeki bütün değerleri çağırıyorum\n",
    "    model_trainer = ModelTrainer(config=model_trainer_config)\n",
    "    model_trainer.initiate_model_trainer()\n",
    "except Exception as e:\n",
    "    raise e"
   ]
  },
  {
   "cell_type": "code",
   "execution_count": null,
   "metadata": {},
   "outputs": [],
   "source": []
  },
  {
   "cell_type": "code",
   "execution_count": null,
   "metadata": {},
   "outputs": [],
   "source": []
  }
 ],
 "metadata": {
  "kernelspec": {
   "display_name": "sanal_ortam",
   "language": "python",
   "name": "python3"
  },
  "language_info": {
   "codemirror_mode": {
    "name": "ipython",
    "version": 3
   },
   "file_extension": ".py",
   "mimetype": "text/x-python",
   "name": "python",
   "nbconvert_exporter": "python",
   "pygments_lexer": "ipython3",
   "version": "3.12.1"
  }
 },
 "nbformat": 4,
 "nbformat_minor": 2
}
